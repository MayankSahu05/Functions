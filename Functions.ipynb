{
  "nbformat": 4,
  "nbformat_minor": 0,
  "metadata": {
    "colab": {
      "provenance": []
    },
    "kernelspec": {
      "name": "python3",
      "display_name": "Python 3"
    },
    "language_info": {
      "name": "python"
    }
  },
  "cells": [
    {
      "cell_type": "markdown",
      "source": [
        "#  FUNCTIONS\n",
        "\n",
        "-  #  Theory Questions:\n",
        "\n",
        "1. What is the difference between a function and a method in Python?\n",
        "-  Function: Defined using def outside of a class, works independently.\n",
        "\n",
        "-   Method: A function defined inside a class; called on an object."
      ],
      "metadata": {
        "id": "K8FIrngOWEnv"
      }
    },
    {
      "cell_type": "code",
      "source": [
        "def add(a,b): return a+b        # Function\n",
        "class Math:\n",
        "    def multiply(self,a,b): return a*b   # Method\n"
      ],
      "metadata": {
        "id": "BMaw59EbeoXz"
      },
      "execution_count": 14,
      "outputs": []
    },
    {
      "cell_type": "markdown",
      "source": [
        "2. Explain the concept of function arguments and parameters in Python.\n",
        "-   Parameter: Variable in function definition.\n",
        "\n",
        "-  Argument: Value passed to the function when called."
      ],
      "metadata": {
        "id": "KXxnaWfqep7E"
      }
    },
    {
      "cell_type": "code",
      "source": [
        "def greet(name):  # 'name' is parameter\n",
        "    print(f\"Hello {name}\")\n",
        "greet(\"Alice\")    # 'Alice' is argument\n"
      ],
      "metadata": {
        "colab": {
          "base_uri": "https://localhost:8080/"
        },
        "id": "KG8FIRIAfCae",
        "outputId": "906bb34d-787f-4241-d96f-b27cd3e8b74d"
      },
      "execution_count": 16,
      "outputs": [
        {
          "output_type": "stream",
          "name": "stdout",
          "text": [
            "Hello Alice\n"
          ]
        }
      ]
    },
    {
      "cell_type": "markdown",
      "source": [
        "3. What are the different ways to define and call a function in Python?\n",
        "\n",
        "-   Regular function (def)\n",
        "\n",
        "-   Lambda function\n",
        "\n",
        "-   Using functools.partial for partial application"
      ],
      "metadata": {
        "id": "7QPApo1FfHoQ"
      }
    },
    {
      "cell_type": "code",
      "source": [
        "def hello(): print(\"Hi\")\n",
        "hello()\n"
      ],
      "metadata": {
        "id": "XTn18La6gBo5"
      },
      "execution_count": null,
      "outputs": []
    },
    {
      "cell_type": "markdown",
      "source": [
        "4. What is the purpose of the `return` statement in a Python function?\n",
        "\n",
        "-  Sends a value back to the caller. Ends the function execution.\n",
        "\n",
        "\n"
      ],
      "metadata": {
        "id": "kBT62bwLwyUq"
      }
    },
    {
      "cell_type": "code",
      "source": [
        "def add(a,b):\n",
        "    return a+b\n"
      ],
      "metadata": {
        "id": "ESO7yB6rxamx"
      },
      "execution_count": null,
      "outputs": []
    },
    {
      "cell_type": "markdown",
      "source": [
        "5. What are iterators in Python and how do they differ from iterables?\n",
        "\n",
        "-  Iterable: Can be looped over (list, tuple, string).\n",
        "\n",
        "-  Iterator: Object with __next__() method that returns items one by one.\n"
      ],
      "metadata": {
        "id": "91x7fBYjxvrd"
      }
    },
    {
      "cell_type": "code",
      "source": [
        "lst = [1,2,3]       # iterable\n",
        "it = iter(lst)      # iterator\n",
        "print(next(it))\n"
      ],
      "metadata": {
        "id": "hhRnONqbyJx6"
      },
      "execution_count": null,
      "outputs": []
    },
    {
      "cell_type": "markdown",
      "source": [
        "6. Explain the concept of generators in Python and how they are defined.\n",
        "\n",
        " -  Special functions using yield to return one value at a time, pausing state.\n"
      ],
      "metadata": {
        "id": "sN5EyhZKyM5G"
      }
    },
    {
      "cell_type": "code",
      "source": [
        "def gen():\n",
        "    yield 1\n",
        "    yield 2\n"
      ],
      "metadata": {
        "id": "XDWaML5nzLI1"
      },
      "execution_count": null,
      "outputs": []
    },
    {
      "cell_type": "markdown",
      "source": [
        "7. What are the advantages of using generators over regular functions?\n",
        "\n",
        " -  Memory efficient\n",
        "\n",
        " -  Lazy evaluation (only when needed)\n",
        "\n",
        "  -  Infinite sequence support"
      ],
      "metadata": {
        "id": "8P5Oy9zizUbA"
      }
    },
    {
      "cell_type": "markdown",
      "source": [
        "8. What is a lambda function in Python and when is it typically used?\n",
        "\n",
        "  -  Anonymous single-expression function."
      ],
      "metadata": {
        "id": "ktT_lpJczsZl"
      }
    },
    {
      "cell_type": "code",
      "source": [
        "square = lambda x: x*x\n",
        "print(square(5))\n"
      ],
      "metadata": {
        "id": "31ZFzFIjz6HX"
      },
      "execution_count": null,
      "outputs": []
    },
    {
      "cell_type": "markdown",
      "source": [
        "9. Explain the purpose and usage of the `map()` function in Python.\n",
        "\n",
        "  -  Applies a function to each element of an iterable."
      ],
      "metadata": {
        "id": "bjgVag_mz91G"
      }
    },
    {
      "cell_type": "code",
      "source": [
        "nums = [1,2,3]\n",
        "doubled = list(map(lambda x: x*2, nums))\n"
      ],
      "metadata": {
        "id": "fNBWK8a-0M8B"
      },
      "execution_count": 21,
      "outputs": []
    },
    {
      "cell_type": "markdown",
      "source": [
        "10. What is the difference between `map()`, `reduce()`, and `filter()` functions in Python?\n",
        "-  \n",
        " -  map(func, iterable) → applies function to each item.\n",
        "\n",
        "  -  filter(func, iterable) → keeps only items where function returns True.\n",
        "\n",
        " -  reduce(func, iterable) → combines items cumulatively."
      ],
      "metadata": {
        "id": "e7jnblvO0QhM"
      }
    },
    {
      "cell_type": "code",
      "source": [
        "from functools import reduce\n",
        "nums = [1,2,3,4]\n",
        "print(list(map(lambda x:x*2, nums)))     # [2,4,6,8]\n",
        "print(list(filter(lambda x:x%2==0, nums))) # [2,4]\n",
        "print(reduce(lambda a,b: a+b, nums))     # 10\n"
      ],
      "metadata": {
        "id": "NJZXVKbx08nG"
      },
      "execution_count": null,
      "outputs": []
    },
    {
      "cell_type": "markdown",
      "source": [
        "11. Using pen & Paper write the internal mechanism for sum operation using  reduce function on this given\n",
        "list:[47,11,42,13];\n",
        "\n",
        "- Stepwise"
      ],
      "metadata": {
        "id": "Qg9416T91CN9"
      }
    },
    {
      "cell_type": "code",
      "source": [
        "reduce(sum, [47,11,42,13])\n",
        "Step 1: 47 + 11 = 58\n",
        "Step 2: 58 + 42 = 100\n",
        "Step 3: 100 + 13 = 113\n"
      ],
      "metadata": {
        "id": "w3zRIk721PvJ"
      },
      "execution_count": null,
      "outputs": []
    },
    {
      "cell_type": "markdown",
      "source": [
        "#  Practical Questions\n",
        "\n",
        "1. Write a Python function that takes a list of numbers as input and returns the sum of all even numbers in\n",
        "the list.\n"
      ],
      "metadata": {
        "id": "ai-sVj3d2fup"
      }
    },
    {
      "cell_type": "code",
      "source": [
        "def sum_even(lst):\n",
        "    return sum(x for x in lst if x % 2 == 0)\n",
        "\n",
        "# Example:\n",
        "nums = [1, 2, 3, 4, 5, 6]\n",
        "print(sum_even(nums))  # Output: 12\n"
      ],
      "metadata": {
        "id": "gnca25JQ3YI3"
      },
      "execution_count": null,
      "outputs": []
    },
    {
      "cell_type": "markdown",
      "source": [
        "2. Create a Python function that accepts a string and returns the reverse of that string."
      ],
      "metadata": {
        "id": "DciDo3yt3aDV"
      }
    },
    {
      "cell_type": "code",
      "source": [
        "def reverse_str(s):\n",
        "    return s[::-1]\n",
        "\n",
        "# Example:\n",
        "print(reverse_str(\"Python\"))  # Output: nohtyP\n"
      ],
      "metadata": {
        "id": "1TqjS4Bv3eUN"
      },
      "execution_count": null,
      "outputs": []
    },
    {
      "cell_type": "markdown",
      "source": [
        "3. Implement a Python function that takes a list of integers and returns a new list containing the squares of\n",
        "each number."
      ],
      "metadata": {
        "id": "JSbclbkO3hrA"
      }
    },
    {
      "cell_type": "code",
      "source": [
        "def squares(lst):\n",
        "    return [x**2 for x in lst]\n",
        "\n",
        "# Example:\n",
        "print(squares([1, 2, 3, 4]))  # Output: [1, 4, 9, 16]\n"
      ],
      "metadata": {
        "id": "8GEndqAo3k06"
      },
      "execution_count": null,
      "outputs": []
    },
    {
      "cell_type": "markdown",
      "source": [
        "4. Write a Python function that checks if a given number is prime or not from 1 to 200."
      ],
      "metadata": {
        "id": "C3JBMHKU3oAJ"
      }
    },
    {
      "cell_type": "code",
      "source": [
        "def primes_upto_200():\n",
        "    def is_prime(n):\n",
        "        if n < 2:\n",
        "            return False\n",
        "        for i in range(2, int(n**0.5) + 1):\n",
        "            if n % i == 0:\n",
        "                return False\n",
        "        return True\n",
        "\n",
        "    return [n for n in range(1, 201) if is_prime(n)]\n",
        "\n",
        "# Example:\n",
        "print(primes_upto_200())\n"
      ],
      "metadata": {
        "id": "bZv0qlQx3qm7"
      },
      "execution_count": null,
      "outputs": []
    },
    {
      "cell_type": "markdown",
      "source": [
        "5. Create an iterator class in Python that generates the Fibonacci sequence up to a specified number of\n",
        "terms"
      ],
      "metadata": {
        "id": "wbpu76Sv3uV9"
      }
    },
    {
      "cell_type": "code",
      "source": [
        "class Fibonacci:\n",
        "    def __init__(self, terms):\n",
        "        self.terms = terms\n",
        "        self.a, self.b = 0, 1\n",
        "        self.count = 0\n",
        "\n",
        "    def __iter__(self):\n",
        "        return self\n",
        "\n",
        "    def __next__(self):\n",
        "        if self.count >= self.terms:\n",
        "            raise StopIteration\n",
        "        self.count += 1\n",
        "        self.a, self.b = self.b, self.a + self.b\n",
        "        return self.a\n",
        "\n",
        "# Example:\n",
        "for num in Fibonacci(10):\n",
        "    print(num, end=\" \")\n"
      ],
      "metadata": {
        "id": "LxVQHyHH3xi3"
      },
      "execution_count": null,
      "outputs": []
    },
    {
      "cell_type": "markdown",
      "source": [
        "6. Write a generator function in Python that yields the powers of 2 up to a given exponent."
      ],
      "metadata": {
        "id": "SJsXqJ0631vg"
      }
    },
    {
      "cell_type": "code",
      "source": [
        "def powers_of_two(exp):\n",
        "    for i in range(exp + 1):\n",
        "        yield 2 ** i\n",
        "\n",
        "# Example:\n",
        "for val in powers_of_two(5):\n",
        "    print(val)\n"
      ],
      "metadata": {
        "id": "hj9C37OW37N0"
      },
      "execution_count": null,
      "outputs": []
    },
    {
      "cell_type": "markdown",
      "source": [
        "7. Implement a generator function that reads a file line by line and yields each line as a string.\n",
        "\n"
      ],
      "metadata": {
        "id": "ezEmRlP138VT"
      }
    },
    {
      "cell_type": "code",
      "source": [
        "def read_file_lines(filepath):\n",
        "    with open(filepath, \"r\") as f:\n",
        "        for line in f:\n",
        "            yield line.strip()\n",
        "\n",
        "# Example (assuming file.txt exists):\n",
        "# for line in read_file_lines(\"file.txt\"):\n",
        "#     print(line)\n"
      ],
      "metadata": {
        "id": "QvNOoLek4EDg"
      },
      "execution_count": null,
      "outputs": []
    },
    {
      "cell_type": "markdown",
      "source": [
        "8. Use a lambda function in Python to sort a list of tuples based on the second element of each tuple"
      ],
      "metadata": {
        "id": "D_vEKUDd4MxR"
      }
    },
    {
      "cell_type": "code",
      "source": [
        "tuples_list = [(1, 3), (2, 1), (4, 2)]\n",
        "sorted_list = sorted(tuples_list, key=lambda x: x[1])\n",
        "print(sorted_list)  # Output: [(2, 1), (4, 2), (1, 3)]\n"
      ],
      "metadata": {
        "id": "j_SUg42M4O2H"
      },
      "execution_count": null,
      "outputs": []
    },
    {
      "cell_type": "markdown",
      "source": [
        "9. Write a Python program that uses `map()` to convert a list of temperatures from Celsius to Fahrenheit."
      ],
      "metadata": {
        "id": "euS-hxKe4Tvg"
      }
    },
    {
      "cell_type": "code",
      "source": [
        "celsius = [0, 20, 30, 40]\n",
        "fahrenheit = list(map(lambda c: (c * 9/5) + 32, celsius))\n",
        "print(fahrenheit)  # Output: [32.0, 68.0, 86.0, 104.0]\n"
      ],
      "metadata": {
        "id": "0E5U-SDA4a4v"
      },
      "execution_count": null,
      "outputs": []
    },
    {
      "cell_type": "markdown",
      "source": [
        "10. Create a Python program that uses `filter()` to remove all the vowels from a given string."
      ],
      "metadata": {
        "id": "D4DMfcV84exc"
      }
    },
    {
      "cell_type": "code",
      "source": [
        "def remove_vowels(s):\n",
        "    vowels = \"aeiouAEIOU\"\n",
        "    return \"\".join(filter(lambda ch: ch not in vowels, s))\n",
        "\n",
        "# Example:\n",
        "print(remove_vowels(\"Hello World\"))  # Output: Hll Wrld\n"
      ],
      "metadata": {
        "id": "WPyWKJeD4nK5"
      },
      "execution_count": null,
      "outputs": []
    },
    {
      "cell_type": "markdown",
      "source": [
        "10. Create a Python program that uses `filter()` to remove all the vowels from a given string."
      ],
      "metadata": {
        "id": "hxqt5xn74tun"
      }
    },
    {
      "cell_type": "code",
      "source": [
        "orders = [\n",
        "    [\"34587\", \"Learning Python\", 4, 40.95],\n",
        "    [\"98762\", \"Programming Python\", 5, 56.80],\n",
        "    [\"77226\", \"Head First Python\", 3, 32.95],\n",
        "    [\"88112\", \"Einführung in Python3\", 3, 24.99]\n",
        "]\n",
        "\n",
        "order_totals = list(map(\n",
        "    lambda x: (x[0], x[2]*x[3] if x[2]*x[3] >= 100 else x[2]*x[3] + 10),\n",
        "    orders\n",
        "))\n",
        "print(order_totals)\n"
      ],
      "metadata": {
        "id": "m54s3hiW4zWc"
      },
      "execution_count": null,
      "outputs": []
    },
    {
      "cell_type": "markdown",
      "source": [
        "11) Imagine an accounting routine used in a book shop. It works on a list with sublists, which look like this:\n",
        "\n",
        "\n",
        "\n",
        "\n",
        "\n",
        "\n",
        "\n",
        "Write a Python program, which returns a list with 2-tuples. Each tuple consists of the order number and the\n",
        "product of the price per item and the quantity. The product should be increased by 10,- € if the value of the\n",
        "order is smaller than 100,00 €.\n",
        "\n",
        "Write a Python program using lambda and map.\n",
        "\n",
        "-   "
      ],
      "metadata": {
        "id": "HxAvmWEe40aV"
      }
    },
    {
      "cell_type": "code",
      "source": [
        "orders = [\n",
        "    [\"34587\", \"Learning Python, Mark Lutz\", 4, 40.95],\n",
        "    [\"98762\", \"Programming Python, Mark Lutz\", 5, 56.80],\n",
        "    [\"77226\", \"Head First Python, Paul Barry\", 3, 32.95],\n",
        "    [\"88112\", \"Einführung in Python3, Bernd Klein\", 3, 24.99]\n",
        "]\n",
        "\n",
        "# Each tuple: (Order Number, Total Price)\n",
        "order_totals = list(\n",
        "    map(lambda order: (order[0], order[2] * order[3] if order[2] * order[3] >= 100 else order[2] * order[3] + 10), orders)\n",
        ")\n",
        "\n",
        "print(order_totals)\n"
      ],
      "metadata": {
        "id": "d3AYmkpF6aiP"
      },
      "execution_count": null,
      "outputs": []
    },
    {
      "cell_type": "markdown",
      "source": [
        "-  How it works:\n",
        "\n",
        " -  order[0] → Order number.\n",
        "\n",
        " -  order[2] * order[3] → Quantity × Price per item.\n",
        "\n",
        " -  If the total is less than 100, add 10.\n",
        "\n",
        " -  map() applies this logic to every order.  \n",
        "\n",
        "-   Expected Output"
      ],
      "metadata": {
        "id": "bgCmuYqy6lB_"
      }
    },
    {
      "cell_type": "code",
      "source": [
        "[('34587', 163.8), ('98762', 284.0), ('77226', 108.85), ('88112', 84.97 + 10 = 94.97)]\n"
      ],
      "metadata": {
        "id": "J3VN1eKw7Qv3"
      },
      "execution_count": null,
      "outputs": []
    }
  ]
}